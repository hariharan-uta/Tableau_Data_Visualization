{
  "nbformat": 4,
  "nbformat_minor": 0,
  "metadata": {
    "colab": {
      "provenance": []
    },
    "kernelspec": {
      "name": "python3",
      "display_name": "Python 3"
    },
    "language_info": {
      "name": "python"
    }
  },
  "cells": [
    {
      "cell_type": "code",
      "execution_count": 8,
      "metadata": {
        "colab": {
          "base_uri": "https://localhost:8080/"
        },
        "id": "rxpuE5hlLeHQ",
        "outputId": "0796d92a-f52d-4515-9912-bb38b10c2135"
      },
      "outputs": [
        {
          "output_type": "execute_result",
          "data": {
            "text/plain": [
              "['episode_details',\n",
              " 'gameplay_times',\n",
              " 'combat_times',\n",
              " 'dialogue',\n",
              " 'all_rolls',\n",
              " 'sources']"
            ]
          },
          "metadata": {},
          "execution_count": 8
        }
      ],
      "source": [
        "import pandas as pd\n",
        "\n",
        "# Load the Excel file to inspect sheet names\n",
        "file_path = \"/content/Critical_Role_Campaign_1_Datapack.xlsx\"\n",
        "excel_file = pd.ExcelFile(file_path)\n",
        "\n",
        "# Display sheet names to determine which ones to load\n",
        "excel_file.sheet_names"
      ]
    },
    {
      "cell_type": "code",
      "source": [
        "dialogue_df = pd.read_excel(file_path, sheet_name='dialogue')"
      ],
      "metadata": {
        "id": "KYiRJLFDP1JX"
      },
      "execution_count": 9,
      "outputs": []
    },
    {
      "cell_type": "code",
      "source": [
        "# Step 2: Sort the dataframe first\n",
        "dialogue_df = dialogue_df.sort_values(by=['Episode', 'time_in_secs']).reset_index(drop=True)\n",
        "\n",
        "# Create the end_time column BEFORE renaming anything\n",
        "dialogue_df['end_time'] = dialogue_df.groupby('Episode')['time_in_secs'].shift(-1)\n",
        "\n",
        "# Fill NaN in end_time with +5 seconds from time_in_secs\n",
        "dialogue_df['end_time'] = dialogue_df['end_time'].fillna(dialogue_df['time_in_secs'] + 5)\n",
        "\n",
        "# NOW rename the time_in_secs to start_time\n",
        "dialogue_df = dialogue_df.rename(columns={'time_in_secs': 'start_time'})\n",
        "\n",
        "# Optional: Calculate duration\n",
        "dialogue_df['duration'] = dialogue_df['end_time'] - dialogue_df['start_time']"
      ],
      "metadata": {
        "id": "-sb87XMvM5Hv"
      },
      "execution_count": 10,
      "outputs": []
    },
    {
      "cell_type": "code",
      "source": [
        "# Step 3: Flag where the speaker or episode changes (new group)\n",
        "dialogue_df['speaker_change'] = (\n",
        "    (dialogue_df['name'] != dialogue_df['name'].shift(1)) |\n",
        "    (dialogue_df['Episode'] != dialogue_df['Episode'].shift(1))\n",
        ").astype(int)\n",
        "\n",
        "# Create a group ID that increments every time there's a change\n",
        "dialogue_df['speech_group'] = dialogue_df['speaker_change'].cumsum()\n",
        "\n",
        "# Group the data by group ID, Episode, and Speaker\n",
        "grouped_df = dialogue_df.groupby(['speech_group', 'Episode', 'name']).agg({\n",
        "    'start_time': 'min',\n",
        "    'end_time': 'max',\n",
        "    'dialogue': lambda x: ' '.join(str(d) for d in x if pd.notna(d))  # Combine text\n",
        "}).reset_index()\n",
        "\n",
        "# Recalculate duration for grouped speeches\n",
        "grouped_df['duration'] = grouped_df['end_time'] - grouped_df['start_time']"
      ],
      "metadata": {
        "id": "_iECLlhgOxrl"
      },
      "execution_count": 11,
      "outputs": []
    },
    {
      "cell_type": "code",
      "source": [
        "all_rolls_df = pd.read_excel(file_path, sheet_name='all_rolls')\n",
        "print(all_rolls_df.columns)"
      ],
      "metadata": {
        "colab": {
          "base_uri": "https://localhost:8080/"
        },
        "id": "TCVthgTlU-id",
        "outputId": "92d0e506-b4ea-4bc7-cdf8-61d6a296e607"
      },
      "execution_count": 14,
      "outputs": [
        {
          "output_type": "stream",
          "name": "stdout",
          "text": [
            "Index(['RollID', 'Campaign', 'Episode', 'Time', 'time_in_seconds',\n",
            "       'youtube_timestamp', 'Player', 'Character', 'Type of Roll', 'D20?',\n",
            "       'Total Roll', 'Natural Roll', 'Crit?', 'Notes'],\n",
            "      dtype='object')\n"
          ]
        }
      ]
    },
    {
      "cell_type": "code",
      "source": [
        "# Select only the relevant columns from all_rolls_df\n",
        "mapping_df = all_rolls_df[['Player', 'Character']].drop_duplicates()\n",
        "\n",
        "# Merge with grouped_df using name <-> Player\n",
        "final_df = grouped_df.merge(mapping_df, left_on='name', right_on='Player', how='left')"
      ],
      "metadata": {
        "id": "TDDlifgSRSQ3"
      },
      "execution_count": 17,
      "outputs": []
    },
    {
      "cell_type": "code",
      "source": [
        "# Drop the duplicate 'Player' column if needed\n",
        "final_df = final_df.drop(columns=['Player'])\n",
        "\n",
        "# Rename columns for Tableau clarity\n",
        "final_df = final_df.rename(columns={\n",
        "    'name': 'Speaker',\n",
        "    'Character': 'Character'\n",
        "})\n",
        "\n",
        "# You can optionally assign a 'Role'\n",
        "final_df['Role'] = final_df['Speaker'].apply(lambda x: 'DM' if x.upper() == 'MATT' else 'Player')"
      ],
      "metadata": {
        "id": "89kLgghCRcx3"
      },
      "execution_count": 18,
      "outputs": []
    },
    {
      "cell_type": "code",
      "source": [
        "final_df.to_csv('/content/character_speech_blocks.csv', index=False)"
      ],
      "metadata": {
        "id": "3bl3o_ljVvJa"
      },
      "execution_count": 19,
      "outputs": []
    }
  ]
}